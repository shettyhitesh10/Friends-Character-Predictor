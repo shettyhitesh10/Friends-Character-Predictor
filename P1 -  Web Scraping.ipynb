{
 "cells": [
  {
   "cell_type": "code",
   "execution_count": null,
   "metadata": {},
   "outputs": [],
   "source": [
    "import urllib.request as urllib\n",
    "import pandas as pd\n",
    "import numpy as np\n",
    "import matplotlib.pyplot as plt\n",
    "from bs4 import BeautifulSoup #beautifulsoup4 \n",
    "from pprint import pprint"
   ]
  },
  {
   "cell_type": "markdown",
   "metadata": {},
   "source": [
    "<b>Following Code was used to get scripts from a website and strored into text files</b> <br>\n",
    "** <b> WARNING </b> Not supposed to be executed again (One time use only) **"
   ]
  },
  {
   "cell_type": "code",
   "execution_count": null,
   "metadata": {},
   "outputs": [],
   "source": [
    "for j in range(1,9):\n",
    "    for i in range(1,24): \n",
    "        url = f'http://uncutfriendsepisodes.tripod.com/season{j}/{i+100*j}uncut.htm'\n",
    "        pprint(url)\n",
    "        try:\n",
    "            html_bs4 = urllib.urlopen(url).read()\n",
    "        except:\n",
    "            print('url not found')\n",
    "            continue\n",
    "        text_file = open(f\"Season{j}{i}.txt\", \"w\")\n",
    "        \n",
    "        soup = BeautifulSoup(html_bs4)\n",
    "        try:\n",
    "            text_file.write(str(soup))\n",
    "        except:\n",
    "            continue\n",
    "text_file.close()\n",
    "    # pprint(soup.p.prettify())"
   ]
  }
 ],
 "metadata": {
  "kernelspec": {
   "display_name": "Python 3",
   "language": "python",
   "name": "python3"
  },
  "language_info": {
   "codemirror_mode": {
    "name": "ipython",
    "version": 3
   },
   "file_extension": ".py",
   "mimetype": "text/x-python",
   "name": "python",
   "nbconvert_exporter": "python",
   "pygments_lexer": "ipython3",
   "version": "3.6.8"
  }
 },
 "nbformat": 4,
 "nbformat_minor": 2
}
